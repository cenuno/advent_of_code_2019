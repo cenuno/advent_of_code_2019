{
 "cells": [
  {
   "cell_type": "code",
   "execution_count": 1,
   "metadata": {},
   "outputs": [],
   "source": [
    "%load_ext autoreload\n",
    "%autoreload 2"
   ]
  },
  {
   "cell_type": "markdown",
   "metadata": {},
   "source": [
    "starting from the part 1 solution code, replacing the full input with the very simple example"
   ]
  },
  {
   "cell_type": "code",
   "execution_count": 2,
   "metadata": {},
   "outputs": [
    {
     "name": "stdout",
     "output_type": "stream",
     "text": [
      "[['R8', 'U5', 'L5', 'D3'], ['U7', 'R6', 'D4', 'L4']]\n",
      "\n",
      "There were 12 times the paths of the wires crossed.\n",
      "The min. distance from one and the point of origin was 1.\n",
      "\n"
     ]
    }
   ],
   "source": [
    "from part_01_solution import (\n",
    "    positions,\n",
    "    crossed_paths,\n",
    "    ORIGIN\n",
    ")"
   ]
  },
  {
   "cell_type": "markdown",
   "metadata": {},
   "source": [
    "It seems like something is off here already...these wires should only cross twice, not 12 times.  And the minimum distance between a crossing and the origin is 6 away\n",
    "\n",
    "Going to restart the kernel again just in case"
   ]
  },
  {
   "cell_type": "code",
   "execution_count": 1,
   "metadata": {},
   "outputs": [],
   "source": [
    "%load_ext autoreload\n",
    "%autoreload 2"
   ]
  },
  {
   "cell_type": "code",
   "execution_count": 2,
   "metadata": {},
   "outputs": [
    {
     "name": "stdout",
     "output_type": "stream",
     "text": [
      "[['R8', 'U5', 'L5', 'D3'], ['U7', 'R6', 'D4', 'L4']]\n",
      "\n",
      "There were 12 times the paths of the wires crossed.\n",
      "The min. distance from one and the point of origin was 1.\n",
      "\n"
     ]
    }
   ],
   "source": [
    "from part_01_solution import (\n",
    "    positions,\n",
    "    crossed_paths,\n",
    "    ORIGIN\n",
    ")"
   ]
  },
  {
   "cell_type": "code",
   "execution_count": 3,
   "metadata": {},
   "outputs": [
    {
     "data": {
      "text/plain": [
       "{'wire_a': [(0, 0),\n",
       "  (1, 0),\n",
       "  (2, 0),\n",
       "  (3, 0),\n",
       "  (4, 0),\n",
       "  (5, 0),\n",
       "  (6, 0),\n",
       "  (7, 0),\n",
       "  (8, 0),\n",
       "  (8, 1),\n",
       "  (8, 2),\n",
       "  (8, 3),\n",
       "  (8, 4),\n",
       "  (8, 5),\n",
       "  (7, 5),\n",
       "  (6, 5),\n",
       "  (5, 5),\n",
       "  (4, 5),\n",
       "  (3, 5),\n",
       "  (3, 4),\n",
       "  (3, 3),\n",
       "  (3, 2)],\n",
       " 'wire_b': [(0, 0),\n",
       "  (1, 0),\n",
       "  (2, 0),\n",
       "  (3, 0),\n",
       "  (4, 0),\n",
       "  (5, 0),\n",
       "  (6, 0),\n",
       "  (7, 0),\n",
       "  (7, 1),\n",
       "  (7, 2),\n",
       "  (7, 3),\n",
       "  (7, 4),\n",
       "  (7, 5),\n",
       "  (7, 6),\n",
       "  (6, 6),\n",
       "  (5, 6),\n",
       "  (4, 6),\n",
       "  (3, 6),\n",
       "  (3, 5),\n",
       "  (3, 4),\n",
       "  (3, 3),\n",
       "  (3, 2)]}"
      ]
     },
     "execution_count": 3,
     "metadata": {},
     "output_type": "execute_result"
    }
   ],
   "source": [
    "positions"
   ]
  },
  {
   "cell_type": "markdown",
   "metadata": {},
   "source": [
    "Those look fine"
   ]
  },
  {
   "cell_type": "markdown",
   "metadata": {},
   "source": [
    "Here's the code that is calculating the crossed paths"
   ]
  },
  {
   "cell_type": "code",
   "execution_count": 4,
   "metadata": {},
   "outputs": [],
   "source": [
    "crossed_paths = list(set(positions[\"wire_a\"]).intersection(positions[\"wire_b\"]))"
   ]
  },
  {
   "cell_type": "code",
   "execution_count": 5,
   "metadata": {},
   "outputs": [
    {
     "data": {
      "text/plain": [
       "[(3, 5),\n",
       " (0, 0),\n",
       " (7, 0),\n",
       " (3, 3),\n",
       " (3, 2),\n",
       " (3, 0),\n",
       " (6, 0),\n",
       " (2, 0),\n",
       " (7, 5),\n",
       " (5, 0),\n",
       " (1, 0),\n",
       " (3, 4),\n",
       " (4, 0)]"
      ]
     },
     "execution_count": 5,
     "metadata": {},
     "output_type": "execute_result"
    }
   ],
   "source": [
    "crossed_paths"
   ]
  },
  {
   "cell_type": "markdown",
   "metadata": {},
   "source": [
    "Again, too high.  There should only be 2"
   ]
  },
  {
   "cell_type": "code",
   "execution_count": 6,
   "metadata": {},
   "outputs": [
    {
     "data": {
      "text/plain": [
       "{(0, 0),\n",
       " (1, 0),\n",
       " (2, 0),\n",
       " (3, 0),\n",
       " (3, 2),\n",
       " (3, 3),\n",
       " (3, 4),\n",
       " (3, 5),\n",
       " (4, 0),\n",
       " (4, 5),\n",
       " (5, 0),\n",
       " (5, 5),\n",
       " (6, 0),\n",
       " (6, 5),\n",
       " (7, 0),\n",
       " (7, 5),\n",
       " (8, 0),\n",
       " (8, 1),\n",
       " (8, 2),\n",
       " (8, 3),\n",
       " (8, 4),\n",
       " (8, 5)}"
      ]
     },
     "execution_count": 6,
     "metadata": {},
     "output_type": "execute_result"
    }
   ],
   "source": [
    "set(positions[\"wire_a\"])"
   ]
  },
  {
   "cell_type": "code",
   "execution_count": 7,
   "metadata": {},
   "outputs": [
    {
     "data": {
      "text/plain": [
       "22"
      ]
     },
     "execution_count": 7,
     "metadata": {},
     "output_type": "execute_result"
    }
   ],
   "source": [
    "len(set(positions[\"wire_a\"]))"
   ]
  },
  {
   "cell_type": "code",
   "execution_count": 8,
   "metadata": {},
   "outputs": [
    {
     "data": {
      "text/plain": [
       "22"
      ]
     },
     "execution_count": 8,
     "metadata": {},
     "output_type": "execute_result"
    }
   ],
   "source": [
    "len(positions[\"wire_a\"])"
   ]
  },
  {
   "cell_type": "markdown",
   "metadata": {},
   "source": [
    "I don't know why the `set` invocation is there, since each position is unique"
   ]
  },
  {
   "cell_type": "markdown",
   "metadata": {},
   "source": [
    "Oh, probably to make the `intersection` method available.  But let's confirm that it's doing what we want"
   ]
  },
  {
   "cell_type": "code",
   "execution_count": 9,
   "metadata": {},
   "outputs": [
    {
     "data": {
      "text/plain": [
       "{(0, 0),\n",
       " (1, 0),\n",
       " (2, 0),\n",
       " (3, 0),\n",
       " (3, 2),\n",
       " (3, 3),\n",
       " (3, 4),\n",
       " (3, 5),\n",
       " (4, 0),\n",
       " (5, 0),\n",
       " (6, 0),\n",
       " (7, 0),\n",
       " (7, 5)}"
      ]
     },
     "execution_count": 9,
     "metadata": {},
     "output_type": "execute_result"
    }
   ],
   "source": [
    "set(positions[\"wire_a\"]).intersection(positions[\"wire_b\"])"
   ]
  },
  {
   "cell_type": "markdown",
   "metadata": {},
   "source": [
    "Wait actually I don't think this is the problem.  (1, 0) appears in both, but it _shouldn't_.  The second wire goes up 7 times, never should pass through (1, 0)"
   ]
  },
  {
   "cell_type": "markdown",
   "metadata": {},
   "source": [
    "The logic making the `positions` variable seems to be assuming that the wire always moves right, up, left, down, but this is only true of the first wire, not the second wire"
   ]
  },
  {
   "cell_type": "code",
   "execution_count": 10,
   "metadata": {},
   "outputs": [],
   "source": [
    "from part_01_solution import calculate_relative_coords"
   ]
  },
  {
   "cell_type": "code",
   "execution_count": 11,
   "metadata": {},
   "outputs": [
    {
     "data": {
      "text/plain": [
       "[(7, 6), (-4, -4)]"
      ]
     },
     "execution_count": 11,
     "metadata": {},
     "output_type": "execute_result"
    }
   ],
   "source": [
    "calculate_relative_coords([\"U7\",\"R6\",\"D4\",\"L4\"])"
   ]
  },
  {
   "cell_type": "markdown",
   "metadata": {},
   "source": [
    "Yeah this is assuming that the first direction is always right or left, second is up or down, third is right or left, fourth is up or down.  But this is not a correct assumption"
   ]
  },
  {
   "cell_type": "markdown",
   "metadata": {},
   "source": [
    "I think I can rewrite just this function, to make four vectors for four wire instructions instead of two vectors for four wire instructions."
   ]
  },
  {
   "cell_type": "code",
   "execution_count": 13,
   "metadata": {},
   "outputs": [],
   "source": [
    "from typing import List, Tuple\n",
    "\n",
    "# create new data type\n",
    "CoordPair = List[Tuple[int, int]]\n",
    "\n",
    "def calculate_relative_coords(directions: List[str]) -> CoordPair:\n",
    "    \"\"\"Determines the relative coordinate pair for each step along a wire\n",
    "    Note:\n",
    "        - The key term here is 'relative'. Each coordinate pair is a step in\n",
    "          both the x and y direction relative to the previous step. The pairs\n",
    "          are meaningless by themselves.\n",
    "    Args:\n",
    "        - direction (List[str]): the direction recorded at a particular point\n",
    "                                 along a wire\n",
    "    Results:\n",
    "        List[Tuple[int, int]]: List of each coordinate pair, stored as a tuple\n",
    "    \"\"\"\n",
    "    coords = []\n",
    "    \n",
    "    for instruction in directions:\n",
    "        direction = instruction[0]\n",
    "        magnitude = int(instruction[1:])\n",
    "        \n",
    "        if direction == \"R\":\n",
    "            coords.append((magnitude, 0))\n",
    "        elif direction == \"L\":\n",
    "            coords.append((-magnitude, 0))\n",
    "        elif direction == \"U\":\n",
    "            coords.append((0, magnitude))\n",
    "        elif direction == \"D\":\n",
    "            coords.append((0, -magnitude))\n",
    "        else:\n",
    "            print(\"Error, encountered direction\", direction)\n",
    "            \n",
    "    return coords"
   ]
  },
  {
   "cell_type": "code",
   "execution_count": 14,
   "metadata": {},
   "outputs": [
    {
     "data": {
      "text/plain": [
       "[(0, 7), (6, 0), (0, -4), (-4, 0)]"
      ]
     },
     "execution_count": 14,
     "metadata": {},
     "output_type": "execute_result"
    }
   ],
   "source": [
    "calculate_relative_coords([\"U7\",\"R6\",\"D4\",\"L4\"])"
   ]
  },
  {
   "cell_type": "code",
   "execution_count": 15,
   "metadata": {},
   "outputs": [],
   "source": [
    "example_input = \"\"\"R8,U5,L5,D3\n",
    "U7,R6,D4,L4\"\"\"\n",
    "wires = [wire.split(\",\") for wire in example_input.split(\"\\n\")]"
   ]
  },
  {
   "cell_type": "code",
   "execution_count": 16,
   "metadata": {},
   "outputs": [],
   "source": [
    "relative_positions = {\"wire_a\": calculate_relative_coords(wires[0]),\n",
    "                      \"wire_b\": calculate_relative_coords(wires[1])}"
   ]
  },
  {
   "cell_type": "code",
   "execution_count": 18,
   "metadata": {},
   "outputs": [],
   "source": [
    "from part_01_solution import calculate_positions\n",
    "positions = {\"wire_a\": calculate_positions(relative_positions[\"wire_a\"]),\n",
    "             \"wire_b\": calculate_positions(relative_positions[\"wire_b\"])}"
   ]
  },
  {
   "cell_type": "code",
   "execution_count": 19,
   "metadata": {},
   "outputs": [
    {
     "data": {
      "text/plain": [
       "{'wire_a': [(0, 0),\n",
       "  (1, 0),\n",
       "  (2, 0),\n",
       "  (3, 0),\n",
       "  (4, 0),\n",
       "  (5, 0),\n",
       "  (6, 0),\n",
       "  (7, 0),\n",
       "  (8, 0),\n",
       "  (8, 1),\n",
       "  (8, 2),\n",
       "  (8, 3),\n",
       "  (8, 4),\n",
       "  (8, 5),\n",
       "  (7, 5),\n",
       "  (6, 5),\n",
       "  (5, 5),\n",
       "  (4, 5),\n",
       "  (3, 5),\n",
       "  (3, 4),\n",
       "  (3, 3),\n",
       "  (3, 2)],\n",
       " 'wire_b': [(0, 0),\n",
       "  (0, 1),\n",
       "  (0, 2),\n",
       "  (0, 3),\n",
       "  (0, 4),\n",
       "  (0, 5),\n",
       "  (0, 6),\n",
       "  (0, 7),\n",
       "  (1, 7),\n",
       "  (2, 7),\n",
       "  (3, 7),\n",
       "  (4, 7),\n",
       "  (5, 7),\n",
       "  (6, 7),\n",
       "  (6, 6),\n",
       "  (6, 5),\n",
       "  (6, 4),\n",
       "  (6, 3),\n",
       "  (5, 3),\n",
       "  (4, 3),\n",
       "  (3, 3),\n",
       "  (2, 3)]}"
      ]
     },
     "execution_count": 19,
     "metadata": {},
     "output_type": "execute_result"
    }
   ],
   "source": [
    "positions"
   ]
  },
  {
   "cell_type": "code",
   "execution_count": 20,
   "metadata": {},
   "outputs": [],
   "source": [
    "crossed_paths = list(set(positions[\"wire_a\"]).intersection(positions[\"wire_b\"]))"
   ]
  },
  {
   "cell_type": "code",
   "execution_count": 21,
   "metadata": {},
   "outputs": [
    {
     "data": {
      "text/plain": [
       "[(0, 0), (3, 3), (6, 5)]"
      ]
     },
     "execution_count": 21,
     "metadata": {},
     "output_type": "execute_result"
    }
   ],
   "source": [
    "crossed_paths"
   ]
  },
  {
   "cell_type": "code",
   "execution_count": 22,
   "metadata": {},
   "outputs": [],
   "source": [
    "crossed_paths.remove(ORIGIN)"
   ]
  },
  {
   "cell_type": "code",
   "execution_count": 24,
   "metadata": {},
   "outputs": [
    {
     "name": "stdout",
     "output_type": "stream",
     "text": [
      "\n",
      "There were 2 times the paths of the wires crossed.\n",
      "The min. distance from one and the point of origin was 6.\n",
      "\n"
     ]
    }
   ],
   "source": [
    "from part_01_solution import distance\n",
    "\n",
    "distances = []\n",
    "for path in crossed_paths:\n",
    "    distances.append(distance(ORIGIN, path, m=1))\n",
    "\n",
    "print(f\"\"\"\n",
    "There were {len(crossed_paths)} times the paths of the wires crossed.\n",
    "The min. distance from one and the point of origin was {round(min(distances))}.\n",
    "\"\"\")"
   ]
  },
  {
   "cell_type": "markdown",
   "metadata": {},
   "source": [
    "Ok, that is correct behavior for part 1, trying code from part 2"
   ]
  },
  {
   "cell_type": "code",
   "execution_count": 25,
   "metadata": {},
   "outputs": [
    {
     "name": "stdout",
     "output_type": "stream",
     "text": [
      "\n",
      "The min. number of steps to reach an intersection is 30.\n",
      "\n"
     ]
    }
   ],
   "source": [
    "# for each crossed path, sum the steps it took both wires to arrive there\n",
    "steps = {\"path\": [], \"steps\": []}\n",
    "for path in crossed_paths:\n",
    "    steps[\"path\"].append(path)\n",
    "    steps[\"steps\"].append(positions[\"wire_a\"].index(path)\n",
    "                          + positions[\"wire_b\"].index(path))\n",
    "\n",
    "# find the minimum number of steps it took to reach one intersection\n",
    "print(f\"\"\"\n",
    "The min. number of steps to reach an intersection is {min(steps[\"steps\"])}.\n",
    "\"\"\")"
   ]
  },
  {
   "cell_type": "markdown",
   "metadata": {},
   "source": [
    "That is correct, let's try the more complicated ones"
   ]
  },
  {
   "cell_type": "code",
   "execution_count": 26,
   "metadata": {},
   "outputs": [],
   "source": [
    "example_input = \"\"\"R75,D30,R83,U83,L12,D49,R71,U7,L72\n",
    "U62,R66,U55,R34,D71,R55,D58,R83\"\"\"\n",
    "wires = [wire.split(\",\") for wire in example_input.split(\"\\n\")]\n",
    "\n",
    "relative_positions = {\"wire_a\": calculate_relative_coords(wires[0]),\n",
    "                      \"wire_b\": calculate_relative_coords(wires[1])}\n",
    "\n",
    "positions = {\"wire_a\": calculate_positions(relative_positions[\"wire_a\"]),\n",
    "             \"wire_b\": calculate_positions(relative_positions[\"wire_b\"])}\n",
    "\n",
    "crossed_paths = list(set(positions[\"wire_a\"]).intersection(positions[\"wire_b\"]))\n",
    "\n",
    "crossed_paths.remove(ORIGIN)\n",
    "\n",
    "# remove the origin from both wires\n",
    "for wire in positions:\n",
    "    positions[wire].remove(ORIGIN)"
   ]
  },
  {
   "cell_type": "code",
   "execution_count": 27,
   "metadata": {},
   "outputs": [
    {
     "name": "stdout",
     "output_type": "stream",
     "text": [
      "\n",
      "The min. number of steps to reach an intersection is 608.\n",
      "\n"
     ]
    }
   ],
   "source": [
    "# for each crossed path, sum the steps it took both wires to arrive there\n",
    "steps = {\"path\": [], \"steps\": []}\n",
    "for path in crossed_paths:\n",
    "    steps[\"path\"].append(path)\n",
    "    steps[\"steps\"].append(positions[\"wire_a\"].index(path)\n",
    "                          + positions[\"wire_b\"].index(path))\n",
    "\n",
    "# find the minimum number of steps it took to reach one intersection\n",
    "print(f\"\"\"\n",
    "The min. number of steps to reach an intersection is {min(steps[\"steps\"])}.\n",
    "\"\"\")"
   ]
  },
  {
   "cell_type": "markdown",
   "metadata": {},
   "source": [
    "That's off by 2 when I included the code to remove the origin.  One way to get the right answer would be to remove that line, but technically I think it's missing from the other end.  I think the `.index` method will return 2 meaning 2-th i.e. it has taken 3 steps"
   ]
  },
  {
   "cell_type": "code",
   "execution_count": 28,
   "metadata": {},
   "outputs": [
    {
     "name": "stdout",
     "output_type": "stream",
     "text": [
      "\n",
      "The min. number of steps to reach an intersection is 610.\n",
      "\n"
     ]
    }
   ],
   "source": [
    "# for each crossed path, sum the steps it took both wires to arrive there\n",
    "steps = {\"path\": [], \"steps\": []}\n",
    "for path in crossed_paths:\n",
    "    steps[\"path\"].append(path)\n",
    "    steps[\"steps\"].append(positions[\"wire_a\"].index(path) + 1\n",
    "                          + positions[\"wire_b\"].index(path) + 1)\n",
    "\n",
    "# find the minimum number of steps it took to reach one intersection\n",
    "print(f\"\"\"\n",
    "The min. number of steps to reach an intersection is {min(steps[\"steps\"])}.\n",
    "\"\"\")"
   ]
  },
  {
   "cell_type": "markdown",
   "metadata": {},
   "source": [
    "Correct"
   ]
  },
  {
   "cell_type": "code",
   "execution_count": 29,
   "metadata": {},
   "outputs": [
    {
     "name": "stdout",
     "output_type": "stream",
     "text": [
      "\n",
      "The min. number of steps to reach an intersection is 410.\n",
      "\n"
     ]
    }
   ],
   "source": [
    "example_input = \"\"\"R98,U47,R26,D63,R33,U87,L62,D20,R33,U53,R51\n",
    "U98,R91,D20,R16,D67,R40,U7,R15,U6,R7\"\"\"\n",
    "wires = [wire.split(\",\") for wire in example_input.split(\"\\n\")]\n",
    "\n",
    "relative_positions = {\"wire_a\": calculate_relative_coords(wires[0]),\n",
    "                      \"wire_b\": calculate_relative_coords(wires[1])}\n",
    "\n",
    "positions = {\"wire_a\": calculate_positions(relative_positions[\"wire_a\"]),\n",
    "             \"wire_b\": calculate_positions(relative_positions[\"wire_b\"])}\n",
    "\n",
    "crossed_paths = list(set(positions[\"wire_a\"]).intersection(positions[\"wire_b\"]))\n",
    "\n",
    "crossed_paths.remove(ORIGIN)\n",
    "\n",
    "# remove the origin from both wires\n",
    "for wire in positions:\n",
    "    positions[wire].remove(ORIGIN)\n",
    "    \n",
    "# for each crossed path, sum the steps it took both wires to arrive there\n",
    "steps = {\"path\": [], \"steps\": []}\n",
    "for path in crossed_paths:\n",
    "    steps[\"path\"].append(path)\n",
    "    steps[\"steps\"].append(positions[\"wire_a\"].index(path) + 1\n",
    "                          + positions[\"wire_b\"].index(path) + 1)\n",
    "\n",
    "# find the minimum number of steps it took to reach one intersection\n",
    "print(f\"\"\"\n",
    "The min. number of steps to reach an intersection is {min(steps[\"steps\"])}.\n",
    "\"\"\")"
   ]
  },
  {
   "cell_type": "markdown",
   "metadata": {},
   "source": [
    "Correct.  So now I'm going to change `part_01_solution` and `part_02_solution` so they have the updated code"
   ]
  },
  {
   "cell_type": "markdown",
   "metadata": {},
   "source": [
    "Checking part 1:"
   ]
  },
  {
   "cell_type": "code",
   "execution_count": 30,
   "metadata": {},
   "outputs": [
    {
     "name": "stderr",
     "output_type": "stream",
     "text": [
      "[autoreload of part_01_solution failed: Traceback (most recent call last):\n",
      "  File \"/Users/ehoffman/.conda/envs/prework-labs/lib/python3.7/site-packages/IPython/extensions/autoreload.py\", line 245, in check\n",
      "    superreload(m, reload, self.old_objects)\n",
      "  File \"/Users/ehoffman/.conda/envs/prework-labs/lib/python3.7/site-packages/IPython/extensions/autoreload.py\", line 434, in superreload\n",
      "    module = reload(module)\n",
      "  File \"/Users/ehoffman/.conda/envs/prework-labs/lib/python3.7/imp.py\", line 314, in reload\n",
      "    return importlib.reload(module)\n",
      "  File \"/Users/ehoffman/.conda/envs/prework-labs/lib/python3.7/importlib/__init__.py\", line 169, in reload\n",
      "    _bootstrap._exec(spec, module)\n",
      "  File \"<frozen importlib._bootstrap>\", line 630, in _exec\n",
      "  File \"<frozen importlib._bootstrap_external>\", line 728, in exec_module\n",
      "  File \"<frozen importlib._bootstrap>\", line 219, in _call_with_frames_removed\n",
      "  File \"/Users/ehoffman/Development/DS/advent_of_code_2019/day_03/part_01_solution.py\", line 54, in <module>\n",
      "    assert calculate_relative_coords([\"L998\", \"U952\", \"R204\", \"U266\"]) == [(-998, 0), (952, 0), (204, 0), (266, 0)]\n",
      "AssertionError\n",
      "]\n"
     ]
    }
   ],
   "source": [
    "from part_01_solution import *"
   ]
  },
  {
   "cell_type": "markdown",
   "metadata": {},
   "source": [
    "Mistake in my updated test code, somehow I made these all left/right instructions"
   ]
  },
  {
   "cell_type": "code",
   "execution_count": 32,
   "metadata": {},
   "outputs": [
    {
     "name": "stdout",
     "output_type": "stream",
     "text": [
      "\n",
      "There were 33 times the paths of the wires crossed.\n",
      "The min. distance from one and the point of origin was 227.\n",
      "\n"
     ]
    }
   ],
   "source": [
    "from part_01_solution import *"
   ]
  },
  {
   "cell_type": "markdown",
   "metadata": {},
   "source": [
    "Checking part 2:"
   ]
  },
  {
   "cell_type": "code",
   "execution_count": 33,
   "metadata": {},
   "outputs": [
    {
     "name": "stdout",
     "output_type": "stream",
     "text": [
      "\n",
      "The min. number of steps to reach an intersection is 20286.\n",
      "\n"
     ]
    }
   ],
   "source": [
    "from part_02_solution import *"
   ]
  },
  {
   "cell_type": "code",
   "execution_count": null,
   "metadata": {},
   "outputs": [],
   "source": []
  }
 ],
 "metadata": {
  "kernelspec": {
   "display_name": "Python 3",
   "language": "python",
   "name": "python3"
  },
  "language_info": {
   "codemirror_mode": {
    "name": "ipython",
    "version": 3
   },
   "file_extension": ".py",
   "mimetype": "text/x-python",
   "name": "python",
   "nbconvert_exporter": "python",
   "pygments_lexer": "ipython3",
   "version": "3.7.3"
  }
 },
 "nbformat": 4,
 "nbformat_minor": 4
}
